{
  "nbformat": 4,
  "nbformat_minor": 0,
  "metadata": {
    "colab": {
      "private_outputs": true,
      "provenance": [],
      "toc_visible": true,
      "authorship_tag": "ABX9TyMk7+iZyACSYGZsjwsrhO46",
      "include_colab_link": true
    },
    "kernelspec": {
      "name": "python3",
      "display_name": "Python 3"
    },
    "language_info": {
      "name": "python"
    },
    "accelerator": "GPU",
    "gpuClass": "standard"
  },
  "cells": [
    {
      "cell_type": "markdown",
      "metadata": {
        "id": "view-in-github",
        "colab_type": "text"
      },
      "source": [
        "<a href=\"https://colab.research.google.com/github/thliang01/Streamlit-Logos-Detection-with-YOLOv5-and-W-B/blob/main/yolov5_baseline.ipynb\" target=\"_parent\"><img src=\"https://colab.research.google.com/assets/colab-badge.svg\" alt=\"Open In Colab\"/></a>"
      ]
    },
    {
      "cell_type": "markdown",
      "source": [
        "## Setup"
      ],
      "metadata": {
        "id": "uRY_3Bpaesrw"
      }
    },
    {
      "cell_type": "code",
      "execution_count": null,
      "metadata": {
        "id": "9X8lox-MesOu"
      },
      "outputs": [],
      "source": [
        "! git clone https://github.com/ultralytics/yolov5\n",
        "%cd yolov5\n",
        "! curl -L \"https://universe.roboflow.com/ds/fU8LAoV3uv?key=sCW0yuwofG\" > roboflow.zip; unzip roboflow.zip; rm roboflow.zip\n",
        "!pip install -r requirements.txt\n",
        "!pip install wandb"
      ]
    },
    {
      "cell_type": "markdown",
      "source": [
        "## Train"
      ],
      "metadata": {
        "id": "LVjNRQrkgcPg"
      }
    },
    {
      "cell_type": "code",
      "source": [
        "!python train.py --data data.yaml --epochs 600 --weights '' --cfg yolov5n.yaml  --batch-size -1"
      ],
      "metadata": {
        "id": "uAPU112JgeC-"
      },
      "execution_count": null,
      "outputs": []
    },
    {
      "cell_type": "code",
      "source": [
        "!python train.py --data data.yaml --epochs 600 --weights '' --cfg yolov5s.yaml  --batch-size -1"
      ],
      "metadata": {
        "id": "Y84jkR8KnrOF"
      },
      "execution_count": null,
      "outputs": []
    },
    {
      "cell_type": "code",
      "source": [
        "!python train.py --data data.yaml --epochs 600 --weights '' --cfg yolov5m.yaml  --batch-size -1"
      ],
      "metadata": {
        "id": "tqp8E6yDvtMD"
      },
      "execution_count": null,
      "outputs": []
    },
    {
      "cell_type": "code",
      "source": [
        "!python train.py --data data.yaml --epochs 600 --weights '' --cfg yolov5l.yaml  --batch-size -1"
      ],
      "metadata": {
        "id": "aO1GKEeX1_OF"
      },
      "execution_count": null,
      "outputs": []
    },
    {
      "cell_type": "code",
      "source": [
        "!python train.py --data data.yaml --epochs 600 --weights '' --cfg yolov5x.yaml  --batch-size -1"
      ],
      "metadata": {
        "id": "hAoVk9cC2Fim"
      },
      "execution_count": null,
      "outputs": []
    }
  ]
}